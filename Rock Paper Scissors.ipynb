{
 "cells": [
  {
   "cell_type": "code",
   "execution_count": null,
   "id": "75e2b43b",
   "metadata": {},
   "outputs": [
    {
     "ename": "",
     "evalue": "",
     "output_type": "error",
     "traceback": [
      "\u001b[1;31mRunning cells with 'Python 3.12.10' requires the ipykernel package.\n",
      "\u001b[1;31m<a href='command:jupyter.createPythonEnvAndSelectController'>Create a Python Environment</a> with the required packages.\n",
      "\u001b[1;31mOr install 'ipykernel' using the command: 'c:/Users/HP/AppData/Local/Microsoft/WindowsApps/python3.12.exe -m pip install ipykernel -U --user --force-reinstall'"
     ]
    }
   ],
   "source": [
    "import random\n",
    "\n",
    "def get_computer_choice():\n",
    "    return random.choice([\"rock\", \"paper\", \"scissors\"])\n",
    "\n",
    "def determine_winner(user, computer):\n",
    "    if user == computer:\n",
    "        return \"It's a tie!\"\n",
    "    elif (user == \"rock\" and computer == \"scissors\") or \\\n",
    "         (user == \"paper\" and computer == \"rock\") or \\\n",
    "         (user == \"scissors\" and computer == \"paper\"):\n",
    "        return \"You win!\"\n",
    "    else:\n",
    "        return \"Computer wins!\"\n",
    "\n",
    "def rock_paper_scissors():\n",
    "    user_score = 0\n",
    "    computer_score = 0\n",
    "\n",
    "    while True:\n",
    "        print(\"\\nChoose: rock, paper, or scissors\")\n",
    "        user_choice = input(\"Your choice: \").lower()\n",
    "        if user_choice not in [\"rock\", \"paper\", \"scissors\"]:\n",
    "            print(\"Invalid choice. Try again.\")\n",
    "            continue\n",
    "\n",
    "        computer_choice = get_computer_choice()\n",
    "        print(f\"Computer chose: {computer_choice}\")\n",
    "        \n",
    "        result = determine_winner(user_choice, computer_choice)\n",
    "        print(result)\n",
    "\n",
    "        if \"You win\" in result:\n",
    "            user_score += 1\n",
    "        elif \"Computer wins\" in result:\n",
    "            computer_score += 1\n",
    "\n",
    "        print(f\"Score => You: {user_score}, Computer: {computer_score}\")\n",
    "        \n",
    "        again = input(\"Play again? (yes/no): \").lower()\n",
    "        if again != \"yes\":\n",
    "            print(\"Thanks for playing!\")\n",
    "            break\n",
    "\n",
    "if __name__ == \"__main__\":\n",
    "    rock_paper_scissors()\n"
   ]
  }
 ],
 "metadata": {
  "kernelspec": {
   "display_name": "Python 3",
   "language": "python",
   "name": "python3"
  },
  "language_info": {
   "name": "python",
   "version": "3.12.10"
  }
 },
 "nbformat": 4,
 "nbformat_minor": 5
}
